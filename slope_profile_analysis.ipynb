{
 "cells": [
  {
   "cell_type": "markdown",
   "id": "31fa1ce2-a3d4-4894-bf6c-77aa54c2cab3",
   "metadata": {},
   "source": [
    "## Import scientific Python packages\n",
    "\n",
    "```matplotlib``` will help us make plots. ```pandas``` will help us import and manipulate data. ```numpy``` will help us make calculations."
   ]
  },
  {
   "cell_type": "code",
   "execution_count": 1,
   "id": "bf769076-bf7d-4b54-979f-95a42f4e3cfc",
   "metadata": {},
   "outputs": [],
   "source": [
    "import matplotlib.pyplot as plt\n",
    "import pandas as pd\n",
    "import numpy as np"
   ]
  },
  {
   "cell_type": "markdown",
   "id": "d6410137-6668-438b-8a9f-9909daa55ce1",
   "metadata": {},
   "source": [
    "## Import slope data"
   ]
  },
  {
   "cell_type": "code",
   "execution_count": 2,
   "id": "44572cf8-5f6d-4b27-8bb0-7f987734c7b8",
   "metadata": {},
   "outputs": [],
   "source": [
    "slope_profile = pd.read_csv('./data/valley_fault_transect.csv')\n",
    "slope_profile['L_x (m)'] = slope_profile['cds2d']\n",
    "slope_profile['EL (m)'] = slope_profile['output_be']"
   ]
  },
  {
   "cell_type": "markdown",
   "id": "28b9ce56-8f98-4744-967a-0343d777b2da",
   "metadata": {
    "tags": []
   },
   "source": [
    "## Plot slope data"
   ]
  },
  {
   "cell_type": "code",
   "execution_count": 3,
   "id": "0578b311-dd29-4573-b7b4-cde595b37d7d",
   "metadata": {},
   "outputs": [
    {
     "data": {
      "image/png": "[encoded data removed]",
      "text/plain": [
       "<Figure size 1080x1080 with 1 Axes>"
      ]
     },
     "metadata": {
      "needs_background": "light"
     },
     "output_type": "display_data"
    }
   ],
   "source": [
    "plt.figure(figsize=(15,15))\n",
    "plt.scatter(slope_profile['L_x (m)'], slope_profile['EL (m)'])\n",
    "plt.xlabel('horizontal distance (m)')\n",
    "plt.ylabel('elevation (m)')\n",
    "plt.axis('scaled')\n",
    "plt.show()"
   ]
  },
  {
   "cell_type": "markdown",
   "id": "39aaf21c-8dac-40c1-a18c-77cff4b3ac83",
   "metadata": {},
   "source": [
    "## Analyzing fault offset"
   ]
  },
  {
   "cell_type": "markdown",
   "id": "e8beb576-5859-4fd0-ac90-03b468f80d41",
   "metadata": {},
   "source": [
    "To consider fault offset, we need to deal with the reality that there is a background slope both in the valley and on the moraine crest. Divide the slope profile in the the portion above the scarp and below the scarp:"
   ]
  },
  {
   "cell_type": "code",
   "execution_count": 4,
   "id": "40b0e9c8-e9d1-49eb-a634-f9e34210bd33",
   "metadata": {},
   "outputs": [],
   "source": [
    "slope_profile_upper = slope_profile[(slope_profile['L_x (m)']>70) & (slope_profile['L_x (m)']<90)]\n",
    "slope_profile_fault = slope_profile[(slope_profile['L_x (m)']>110) & (slope_profile['L_x (m)']<125)]\n",
    "slope_profile_lower = slope_profile[(slope_profile['L_x (m)']>150) & (slope_profile['L_x (m)']<170)]"
   ]
  },
  {
   "cell_type": "code",
   "execution_count": 5,
   "id": "12cb5b7e-7a0a-4815-8cdd-6ecfd7b1a477",
   "metadata": {},
   "outputs": [
    {
     "data": {
      "image/png": "[encoded data removed]",
      "text/plain": [
       "<Figure size 1080x1080 with 1 Axes>"
      ]
     },
     "metadata": {
      "needs_background": "light"
     },
     "output_type": "display_data"
    }
   ],
   "source": [
    "plt.figure(figsize=(15,15))\n",
    "plt.scatter(slope_profile['L_x (m)'], slope_profile['EL (m)'])\n",
    "plt.scatter(slope_profile_upper['L_x (m)'], slope_profile_upper['EL (m)'])\n",
    "plt.scatter(slope_profile_fault['L_x (m)'], slope_profile_fault['EL (m)'])\n",
    "plt.scatter(slope_profile_lower['L_x (m)'], slope_profile_lower['EL (m)'])\n",
    "plt.axis('scaled')\n",
    "plt.show()"
   ]
  },
  {
   "cell_type": "markdown",
   "id": "8d6fbc33-ccbf-450b-bf85-46240d4d3db6",
   "metadata": {},
   "source": [
    "## Fit linear regressions to the slope above and below the fault"
   ]
  },
  {
   "cell_type": "code",
   "execution_count": 6,
   "id": "a37dd431-150a-4e21-ab5e-b05915c0c43f",
   "metadata": {},
   "outputs": [],
   "source": [
    "upper_slope, upper_intercept = np.polyfit(slope_profile_upper['L_x (m)'], slope_profile_upper['EL (m)'],1)\n",
    "\n",
    "lower_slope, lower_intercept = np.polyfit(slope_profile_lower['L_x (m)'], slope_profile_lower['EL (m)'],1)"
   ]
  },
  {
   "cell_type": "code",
   "execution_count": 7,
   "id": "1c1b50af-2d38-4469-8089-88c860727df2",
   "metadata": {},
   "outputs": [],
   "source": [
    "fault_midpoint = 118"
   ]
  },
  {
   "cell_type": "code",
   "execution_count": 8,
   "id": "949d2200-98c6-453e-b937-d57cf4231f92",
   "metadata": {},
   "outputs": [
    {
     "data": {
      "image/png": "[encoded data removed]",
      "text/plain": [
       "<Figure size 1080x1080 with 1 Axes>"
      ]
     },
     "metadata": {
      "needs_background": "light"
     },
     "output_type": "display_data"
    }
   ],
   "source": [
    "x = np.arange(0, 300, 1)\n",
    "\n",
    "plt.figure(figsize=(15,15))\n",
    "plt.scatter(slope_profile['L_x (m)'], slope_profile['EL (m)'])\n",
    "\n",
    "plt.scatter(slope_profile_upper['L_x (m)'], slope_profile_upper['EL (m)'],color='C1')\n",
    "plt.plot(x, upper_slope*x + upper_intercept,color='C1')\n",
    "\n",
    "plt.scatter(slope_profile_lower['L_x (m)'], slope_profile_lower['EL (m)'],color='C3')\n",
    "plt.plot(x, lower_slope*x + lower_intercept,color='C3')\n",
    "\n",
    "plt.vlines(fault_midpoint,0,3000,color='black')\n",
    "\n",
    "plt.axis('scaled')\n",
    "plt.ylim(np.min(slope_profile['EL (m)']),np.max(slope_profile['EL (m)']))\n",
    "plt.show()"
   ]
  },
  {
   "cell_type": "markdown",
   "id": "6246bd39-04f7-4f14-bba3-046ba7431d50",
   "metadata": {},
   "source": [
    "## Calculate the vertical offset between the upper and lower lines at the fault\n",
    "\n",
    "We can calculate the value on each fit line at the midpoint of the fault."
   ]
  },
  {
   "cell_type": "code",
   "execution_count": 9,
   "id": "ab9beedb-dfde-4da1-97e3-c7566039b211",
   "metadata": {
    "tags": []
   },
   "outputs": [
    {
     "name": "stdout",
     "output_type": "stream",
     "text": [
      "footwall wall elevation at 118 m along profile: 2298.9\n",
      "hanging wall elevation at 118 m along profile: 2282.8\n",
      "fault drop in elevation is 16.1 m\n"
     ]
    }
   ],
   "source": [
    "foot_wall_z = upper_slope*fault_midpoint + upper_intercept\n",
    "print('footwall wall elevation at ' + str(fault_midpoint) + ' m along profile: ' + str(round(foot_wall_z,1)))\n",
    "hanging_wall_z = lower_slope*fault_midpoint + lower_intercept\n",
    "print('hanging wall elevation at ' + str(fault_midpoint) + ' m along profile: ' + str(round(hanging_wall_z,1)))\n",
    "difference = foot_wall_z-hanging_wall_z\n",
    "print('fault drop in elevation is ' + str(round(difference,1)) + ' m')"
   ]
  },
  {
   "cell_type": "markdown",
   "id": "b64f943f-6689-4ca4-8b1f-488fde0eeee4",
   "metadata": {},
   "source": [
    "## Fit linear regressions to the fault slope"
   ]
  },
  {
   "cell_type": "code",
   "execution_count": 10,
   "id": "b16b2d5f-9013-44f6-9c86-217777147e86",
   "metadata": {},
   "outputs": [],
   "source": [
    "fault_scarp_slope, fault_scarp_intercept = np.polyfit(slope_profile_fault['L_x (m)'], slope_profile_fault['EL (m)'],1)"
   ]
  },
  {
   "cell_type": "markdown",
   "id": "b6f5d38f-d0c3-498e-aaf1-48cb78e92a41",
   "metadata": {},
   "source": [
    "We can calculate the angle of the slope from this fit:"
   ]
  },
  {
   "cell_type": "code",
   "execution_count": 11,
   "id": "5c128d50-78ec-4ac1-b892-405029229629",
   "metadata": {},
   "outputs": [
    {
     "name": "stdout",
     "output_type": "stream",
     "text": [
      "-32.1\n"
     ]
    }
   ],
   "source": [
    "slope_angle = np.rad2deg(np.arctan(fault_scarp_slope/1))\n",
    "print(round(slope_angle,1))"
   ]
  },
  {
   "cell_type": "markdown",
   "id": "5b37ad2b-0556-4300-b411-9f807e696d22",
   "metadata": {},
   "source": [
    "We can determine the intersects of the fault scarp slope with the upper and lower slopes:"
   ]
  },
  {
   "cell_type": "code",
   "execution_count": 12,
   "id": "0a05bf02-9acd-49d3-ae7b-a255bc17928a",
   "metadata": {},
   "outputs": [],
   "source": [
    "x_upper_intersect = (fault_scarp_intercept - upper_intercept) / (upper_slope - fault_scarp_slope)\n",
    "y_upper_intersect = fault_scarp_slope * x_upper_intersect + fault_scarp_intercept\n",
    "\n",
    "x_lower_intersect = (lower_intercept- fault_scarp_intercept) / (fault_scarp_slope - lower_slope)\n",
    "y_lower_intersect = fault_scarp_slope * x_lower_intersect + fault_scarp_intercept"
   ]
  },
  {
   "cell_type": "markdown",
   "id": "98f9d57d-9f6d-473a-8396-8e8ae929c2ed",
   "metadata": {},
   "source": [
    "These intercepts are plotted as black squares below:"
   ]
  },
  {
   "cell_type": "code",
   "execution_count": 13,
   "id": "1207a34a-a121-48e0-9ac5-0b8b58f11b2c",
   "metadata": {},
   "outputs": [
    {
     "data": {
      "image/png": "[encoded data removed]",
      "text/plain": [
       "<Figure size 1080x1080 with 1 Axes>"
      ]
     },
     "metadata": {
      "needs_background": "light"
     },
     "output_type": "display_data"
    }
   ],
   "source": [
    "x = np.arange(0, 300, 1)\n",
    "\n",
    "plt.figure(figsize=(15,15))\n",
    "plt.scatter(slope_profile['L_x (m)'], slope_profile['EL (m)'])\n",
    "\n",
    "plt.scatter(slope_profile_upper['L_x (m)'], slope_profile_upper['EL (m)'],color='C1')\n",
    "plt.plot(x, upper_slope*x + upper_intercept,color='C1')\n",
    "\n",
    "plt.scatter(slope_profile_fault['L_x (m)'], slope_profile_fault['EL (m)'],color='C2')\n",
    "plt.plot(x, fault_scarp_slope*x + fault_scarp_intercept,color='C2')\n",
    "\n",
    "plt.scatter(slope_profile_lower['L_x (m)'], slope_profile_lower['EL (m)'],color='C3')\n",
    "plt.plot(x, lower_slope*x + lower_intercept,color='C3')\n",
    "\n",
    "plt.plot(x_upper_intersect,y_upper_intersect,color='black',marker='s',markersize=8)\n",
    "plt.plot(x_lower_intersect,y_lower_intersect,color='black',marker='s',markersize=8)\n",
    "\n",
    "plt.axis('scaled')\n",
    "plt.ylim(np.min(slope_profile['EL (m)']),np.max(slope_profile['EL (m)']))\n",
    "plt.show()"
   ]
  },
  {
   "cell_type": "markdown",
   "id": "90ff5394-6cf4-4e30-8fa0-561a194ada8c",
   "metadata": {},
   "source": [
    "If the current surface of the slope is the fault plane we can calculate the offset along the plane (once again pythagorean theorem comes in handy!)"
   ]
  },
  {
   "cell_type": "code",
   "execution_count": 14,
   "id": "63b1446f-92d5-457b-be8f-e3d7264056d0",
   "metadata": {},
   "outputs": [
    {
     "data": {
      "text/plain": [
       "33.03579211049754"
      ]
     },
     "execution_count": 14,
     "metadata": {},
     "output_type": "execute_result"
    }
   ],
   "source": [
    "x = x_lower_intersect - x_upper_intersect\n",
    "y = y_upper_intersect - y_lower_intersect\n",
    "fault_scarp_offset = np.sqrt(x**2 + y**2)\n",
    "fault_scarp_offset"
   ]
  },
  {
   "cell_type": "markdown",
   "id": "a89e1f22-c47c-4ef7-870f-72733ac15b27",
   "metadata": {},
   "source": [
    "## Determining the orientation of the fault plane and calculate the dip slip offset\n",
    "\n",
    "However, there have been ongoing hillslope processes eroding the scarp as it progressively develops through earthquakes such that the fault scarp angle is likely less than the true fault angle. This difference will make the fault_scarp_offset estimate above an overestimate of the dip slip displacement along the fault plane itself.\n",
    "\n",
    "To determine how much slip there has been on the fault, we need to know the angle of the fault plane. One way that we can get at this information is not through the slope on the fault scarp, but rather the intersection of the fault with the landscape. In EPS 101, you took measured bedding plane measurements and plotted their intersection with the topography. We can flip this approach around and use the intersection of a plane with the topography as a way to back out the fault orientation.\n",
    "\n",
    "**To do**\n",
    "- Calculate the fault plane orientation using the Best fit plane tool of the qgSurf plugin within QGIS using the expression of the fault in conjunction with the DEM\n",
    "- Calculate the slope from this fault dip\n",
    "- Calculate the intercept such that it can be plotted with the upper and lower slope lines. Recall that you know the slope of a line and a point along the line you can solve for the intercept. The point on the line can be the fault midpoint distance and the fault midpoint elevation.\n",
    "- Calculate the intersections of the line with the upper and lower slope lines.\n",
    "- Plot this line with the upper and lower slope lines.\n",
    "- Determine the total slip along the plane in the down going direction on the fault plane (this is the dip slip offset)\n"
   ]
  },
  {
   "cell_type": "code",
   "execution_count": 15,
   "id": "4370517c-e280-4fd3-a54b-f802f7a93afa",
   "metadata": {},
   "outputs": [
    {
     "ename": "SyntaxError",
     "evalue": "invalid syntax (1000046695.py, line 1)",
     "output_type": "error",
     "traceback": [
      "\u001b[0;36m  Input \u001b[0;32mIn [15]\u001b[0;36m\u001b[0m\n\u001b[0;31m    fault_dip_direction =\u001b[0m\n\u001b[0m                          ^\u001b[0m\n\u001b[0;31mSyntaxError\u001b[0m\u001b[0;31m:\u001b[0m invalid syntax\n"
     ]
    }
   ],
   "source": [
    "fault_dip_direction = \n",
    "fault_dip = "
   ]
  },
  {
   "cell_type": "code",
   "execution_count": null,
   "id": "cf59e5f2-997e-4ff0-9ca5-1ca1977c835b",
   "metadata": {},
   "outputs": [],
   "source": [
    "fault_slope =\n",
    "fault_slope"
   ]
  },
  {
   "cell_type": "code",
   "execution_count": null,
   "id": "3837a9f2-50b7-4847-ba42-53c6e1e7a178",
   "metadata": {},
   "outputs": [],
   "source": [
    "fault_midpoint_x = \n",
    "fault_midpoint_z = \n",
    "fault_intercept = \n",
    "fault_intercept"
   ]
  },
  {
   "cell_type": "code",
   "execution_count": null,
   "id": "62b41c90-4c2e-434a-8a95-a6a3052eb975",
   "metadata": {},
   "outputs": [],
   "source": [
    "dip_slip_offset ="
   ]
  },
  {
   "cell_type": "markdown",
   "id": "946a7a42-f96e-4e1a-adfc-7d88aa7ed8cf",
   "metadata": {},
   "source": [
    "##  Determining the total offset along the fault\n",
    "\n",
    "The total offset along the fault will be a combination of the dip slope offset you have just estimated and the strike slip offset. \n",
    "\n",
    "**To do**\n",
    "- Estimate the strike slip offset using the offset moraine crests\n",
    "- Determine the total slip along the fault plane using the dip slip offset and strike slip offset values (Pythagorean theorem comes in handy once again)"
   ]
  },
  {
   "cell_type": "code",
   "execution_count": null,
   "id": "4d3267d6-64b8-4cae-a308-6587b44dd5eb",
   "metadata": {},
   "outputs": [],
   "source": []
  },
  {
   "cell_type": "code",
   "execution_count": null,
   "id": "13a18740-8da9-4d21-af81-2a0004d34f4d",
   "metadata": {},
   "outputs": [],
   "source": []
  }
 ],
 "metadata": {
  "kernelspec": {
   "display_name": "Python 3 (ipykernel)",
   "language": "python",
   "name": "python3"
  },
  "language_info": {
   "codemirror_mode": {
    "name": "ipython",
    "version": 3
   },
   "file_extension": ".py",
   "mimetype": "text/x-python",
   "name": "python",
   "nbconvert_exporter": "python",
   "pygments_lexer": "ipython3",
   "version": "3.8.13"
  }
 },
 "nbformat": 4,
 "nbformat_minor": 5
}
