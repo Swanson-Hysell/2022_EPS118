{
 "cells": [
  {
   "cell_type": "markdown",
   "id": "572085d8-eb77-48af-8772-1ec880e7e2fc",
   "metadata": {},
   "source": [
    "# Importing data with pandas and plotting it using matplotlib (a clast count example)"
   ]
  },
  {
   "cell_type": "markdown",
   "id": "81d09524-3fb3-4e2b-9911-46c763fa387e",
   "metadata": {},
   "source": [
    "## Import function libraries\n",
    "\n",
    "In order to use the functions associated with matplotlib and pandas, we need to import them which is done in the code cell below. The convention is to import them using shortened code names (e.g. pd for pandas; plt for matplotlib.pyplot).\n",
    "\n",
    "```pandas``` is a widely used data analysis library that has tools for importing and manipulating data. The central component of pandas is the DataFrame object which is an indexed tabular data structure.\n",
    "\n",
    "```matplotlib``` is a widely used library that enables data visualization (it makes plots).\n",
    "\n",
    "```sns``` is a Python data visualization library built on top of matplotlib that provides shortcuts to make nice looking and informative statistical graphics from pandas DataFrames. https://seaborn.pydata.org/examples/index.html"
   ]
  },
  {
   "cell_type": "code",
   "execution_count": 148,
   "id": "874b79e4-9c54-47d8-928a-fa69b138963f",
   "metadata": {},
   "outputs": [],
   "source": [
    "import matplotlib.pyplot as plt\n",
    "import pandas as pd\n",
    "pd.options.mode.chained_assignment = None\n",
    "import seaborn as sns"
   ]
  },
  {
   "cell_type": "markdown",
   "id": "4a6ed867-1da2-4a10-80c3-311d71431e58",
   "metadata": {},
   "source": [
    "## Import our data\n",
    "\n",
    "Our clast data is currently within a Google Sheet. We can specify the sheet_id and read in the data directly from Google Sheets. Note that the sheet name can not have any spaces in it (as urls can not have spaces; although spaces can be specified with %20). The code cell below creates a url that points to our Google sheet."
   ]
  },
  {
   "cell_type": "code",
   "execution_count": 149,
   "id": "f7d6f09f-9cda-4856-a77e-e37f5481a279",
   "metadata": {},
   "outputs": [
    {
     "name": "stdout",
     "output_type": "stream",
     "text": [
      "https://docs.google.com/spreadsheets/d/1fmdBNM1kJn2DvIjiD4CTMctHbg45v_i3ZcIdH3XTHfg/gviz/tq?tqx=out:csv&sheet=Nick_diorite_protrusion\n"
     ]
    }
   ],
   "source": [
    "sheet_id = '1fmdBNM1kJn2DvIjiD4CTMctHbg45v_i3ZcIdH3XTHfg'\n",
    "sheet_name = 'Nick_diorite_protrusion'\n",
    "protrusion_url = f'https://docs.google.com/spreadsheets/d/{sheet_id}/gviz/tq?tqx=out:csv&sheet={sheet_name}'\n",
    "print(protrusion_url)"
   ]
  },
  {
   "cell_type": "markdown",
   "id": "1ee23f13-6182-4d3d-a90c-e79f46dab169",
   "metadata": {},
   "source": [
    "Now that the url is specified, we can read the data and import it as a pandas dataframe with the code ```pd.read_csv(url)```. We will create a dataframe with the name diorite_protrusions. The Jupyter notebook will show us the header (first 5 rows) and the footer (last 5 rows) of the dataframe>"
   ]
  },
  {
   "cell_type": "code",
   "execution_count": 150,
   "id": "7d046d94-5ac1-4e50-bab1-637c06cb1665",
   "metadata": {},
   "outputs": [
    {
     "data": {
      "text/html": [
       "<div>\n",
       "<style scoped>\n",
       "    .dataframe tbody tr th:only-of-type {\n",
       "        vertical-align: middle;\n",
       "    }\n",
       "\n",
       "    .dataframe tbody tr th {\n",
       "        vertical-align: top;\n",
       "    }\n",
       "\n",
       "    .dataframe thead th {\n",
       "        text-align: right;\n",
       "    }\n",
       "</style>\n",
       "<table border=\"1\" class=\"dataframe\">\n",
       "  <thead>\n",
       "    <tr style=\"text-align: right;\">\n",
       "      <th></th>\n",
       "      <th>team name</th>\n",
       "      <th>moraine</th>\n",
       "      <th>protrusion depth (cm)</th>\n",
       "    </tr>\n",
       "  </thead>\n",
       "  <tbody>\n",
       "    <tr>\n",
       "      <th>0</th>\n",
       "      <td>Nick</td>\n",
       "      <td>younger</td>\n",
       "      <td>3.5</td>\n",
       "    </tr>\n",
       "    <tr>\n",
       "      <th>1</th>\n",
       "      <td>Nick</td>\n",
       "      <td>younger</td>\n",
       "      <td>1.0</td>\n",
       "    </tr>\n",
       "    <tr>\n",
       "      <th>2</th>\n",
       "      <td>Nick</td>\n",
       "      <td>younger</td>\n",
       "      <td>0.8</td>\n",
       "    </tr>\n",
       "    <tr>\n",
       "      <th>3</th>\n",
       "      <td>Nick</td>\n",
       "      <td>younger</td>\n",
       "      <td>1.2</td>\n",
       "    </tr>\n",
       "    <tr>\n",
       "      <th>4</th>\n",
       "      <td>Nick</td>\n",
       "      <td>younger</td>\n",
       "      <td>1.1</td>\n",
       "    </tr>\n",
       "    <tr>\n",
       "      <th>...</th>\n",
       "      <td>...</td>\n",
       "      <td>...</td>\n",
       "      <td>...</td>\n",
       "    </tr>\n",
       "    <tr>\n",
       "      <th>75</th>\n",
       "      <td>Nick</td>\n",
       "      <td>older</td>\n",
       "      <td>5.0</td>\n",
       "    </tr>\n",
       "    <tr>\n",
       "      <th>76</th>\n",
       "      <td>Nick</td>\n",
       "      <td>older</td>\n",
       "      <td>4.2</td>\n",
       "    </tr>\n",
       "    <tr>\n",
       "      <th>77</th>\n",
       "      <td>Nick</td>\n",
       "      <td>older</td>\n",
       "      <td>6.3</td>\n",
       "    </tr>\n",
       "    <tr>\n",
       "      <th>78</th>\n",
       "      <td>Nick</td>\n",
       "      <td>older</td>\n",
       "      <td>4.0</td>\n",
       "    </tr>\n",
       "    <tr>\n",
       "      <th>79</th>\n",
       "      <td>Nick</td>\n",
       "      <td>older</td>\n",
       "      <td>3.4</td>\n",
       "    </tr>\n",
       "  </tbody>\n",
       "</table>\n",
       "<p>80 rows × 3 columns</p>\n",
       "</div>"
      ],
      "text/plain": [
       "   team name  moraine  protrusion depth (cm)\n",
       "0       Nick  younger                    3.5\n",
       "1       Nick  younger                    1.0\n",
       "2       Nick  younger                    0.8\n",
       "3       Nick  younger                    1.2\n",
       "4       Nick  younger                    1.1\n",
       "..       ...      ...                    ...\n",
       "75      Nick    older                    5.0\n",
       "76      Nick    older                    4.2\n",
       "77      Nick    older                    6.3\n",
       "78      Nick    older                    4.0\n",
       "79      Nick    older                    3.4\n",
       "\n",
       "[80 rows x 3 columns]"
      ]
     },
     "execution_count": 150,
     "metadata": {},
     "output_type": "execute_result"
    }
   ],
   "source": [
    "diorite_protrusions = pd.read_csv(protrusion_url)\n",
    "diorite_protrusions"
   ]
  },
  {
   "cell_type": "markdown",
   "id": "33ec2ef6-a2d1-4c81-8868-0b900af882e9",
   "metadata": {},
   "source": [
    "## Summarize our data"
   ]
  },
  {
   "cell_type": "markdown",
   "id": "45b7f71e-94c8-4519-9792-bf86bd96d77b",
   "metadata": {},
   "source": [
    "Each pandas dataframe column can be referred to by using the syntax:\n",
    "\n",
    "```data_frame_name['column_name']```\n",
    "\n",
    "In addition, pandas will summarize the data if we apply the function ```.describe()``` to our column of data.\n",
    "\n",
    "Let's get the summary statistics associated with the data in the ```'protrusion depth (cm)'``` column:"
   ]
  },
  {
   "cell_type": "code",
   "execution_count": 151,
   "id": "d83a8174-c870-403e-928a-5592a659e960",
   "metadata": {},
   "outputs": [
    {
     "data": {
      "text/plain": [
       "count    80.000000\n",
       "mean      2.906250\n",
       "std       2.757973\n",
       "min       0.300000\n",
       "25%       1.075000\n",
       "50%       1.900000\n",
       "75%       3.650000\n",
       "max      14.000000\n",
       "Name: protrusion depth (cm), dtype: float64"
      ]
     },
     "execution_count": 151,
     "metadata": {},
     "output_type": "execute_result"
    }
   ],
   "source": [
    " diorite_protrusions['protrusion depth (cm)'].describe(include='all')"
   ]
  },
  {
   "cell_type": "markdown",
   "id": "14dc8b2b-9767-4846-ab5d-ff76cef3dfc8",
   "metadata": {},
   "source": [
    "We want to be able make a comparison between the diorite protrusion length in the younger moraine vs. the older moraine. Pandas provides ways to filter data. There is a column called ```moraine```. We can say that we just want to see the rows of the dataframe where 'younger' is the value in the  ```moraine``` column and call that ```diorite_young``` and vice versa for ```diorite_old```."
   ]
  },
  {
   "cell_type": "code",
   "execution_count": 152,
   "id": "184a3718-3806-40ef-8f76-700e37410b2e",
   "metadata": {},
   "outputs": [],
   "source": [
    "diorite_young = diorite_protrusions[diorite_protrusions['moraine'] == 'younger']\n",
    "diorite_old = diorite_protrusions[diorite_protrusions['moraine'] == 'older']"
   ]
  },
  {
   "cell_type": "markdown",
   "id": "9bdfa3c1-2ba8-4abd-969c-017998b7dfc7",
   "metadata": {},
   "source": [
    "We can now calculate the summary statistics for young and then old"
   ]
  },
  {
   "cell_type": "code",
   "execution_count": 153,
   "id": "6cca190c-36e4-4aec-aa0d-295662132e7e",
   "metadata": {},
   "outputs": [
    {
     "data": {
      "text/plain": [
       "count    39.000000\n",
       "mean      1.379487\n",
       "std       1.092120\n",
       "min       0.300000\n",
       "25%       0.700000\n",
       "50%       1.100000\n",
       "75%       1.500000\n",
       "max       5.100000\n",
       "Name: protrusion depth (cm), dtype: float64"
      ]
     },
     "execution_count": 153,
     "metadata": {},
     "output_type": "execute_result"
    }
   ],
   "source": [
    "diorite_young['protrusion depth (cm)'].describe(include='all')"
   ]
  },
  {
   "cell_type": "code",
   "execution_count": 154,
   "id": "18451857-51e2-462b-ba8d-23b16170f8a5",
   "metadata": {},
   "outputs": [
    {
     "data": {
      "text/plain": [
       "count    41.000000\n",
       "mean      4.358537\n",
       "std       3.074896\n",
       "min       0.300000\n",
       "25%       2.100000\n",
       "50%       3.400000\n",
       "75%       5.800000\n",
       "max      14.000000\n",
       "Name: protrusion depth (cm), dtype: float64"
      ]
     },
     "execution_count": 154,
     "metadata": {},
     "output_type": "execute_result"
    }
   ],
   "source": [
    "diorite_old['protrusion depth (cm)'].describe(include='all')"
   ]
  },
  {
   "cell_type": "markdown",
   "id": "c55c3c90-2b1d-447a-ba9f-849043322274",
   "metadata": {},
   "source": [
    "## Visualize our data"
   ]
  },
  {
   "cell_type": "markdown",
   "id": "092784d1-ce29-4ec6-a9f5-4fbfdb27670f",
   "metadata": {},
   "source": [
    "We can use seaborn to visualize our data. For example, we can draw a scatterplot where one variable is categorical called a swarmplot to show all of our measurements. We can define the x values on the plot to be the protrusion depth putting ```x=\"protrusion depth (cm)\"```, can make y be categorized by the moraine categories with ```y=\"moraine\"```, and need to specify that the dataframe is diorite_protrusions with ```data=diorite_protrusions```."
   ]
  },
  {
   "cell_type": "code",
   "execution_count": 155,
   "id": "d6d57e69-53da-4e8f-a0d3-8b9bbf4cc1d7",
   "metadata": {},
   "outputs": [
    {
     "data": {
      "image/png": "[encoded data removed]",
      "text/plain": [
       "<Figure size 432x288 with 1 Axes>"
      ]
     },
     "metadata": {
      "needs_background": "light"
     },
     "output_type": "display_data"
    }
   ],
   "source": [
    "sns.swarmplot(x=\"protrusion depth (cm)\", y=\"moraine\", data=diorite_protrusions)\n",
    "plt.show()"
   ]
  },
  {
   "cell_type": "markdown",
   "id": "62ee750c-36a8-4387-82b7-ef78efaac553",
   "metadata": {},
   "source": [
    "We can combine the swarmplot with a box and whisker plot which that shows the 25 percentile, 50 percentile (median), and 75 percentile with the box and has whiskers that show the full range."
   ]
  },
  {
   "cell_type": "code",
   "execution_count": 156,
   "id": "ae303eef-8142-4d4a-9319-509a36916e69",
   "metadata": {},
   "outputs": [
    {
     "data": {
      "image/png": "[encoded data removed]",
      "text/plain": [
       "<Figure size 432x288 with 1 Axes>"
      ]
     },
     "metadata": {
      "needs_background": "light"
     },
     "output_type": "display_data"
    }
   ],
   "source": [
    "sns.boxplot(x=\"protrusion depth (cm)\", y=\"moraine\", data=diorite_protrusions,whis=[0,100])\n",
    "sns.swarmplot(x=\"protrusion depth (cm)\", y=\"moraine\", data=diorite_protrusions,color=\"black\")\n",
    "plt.show()"
   ]
  },
  {
   "cell_type": "markdown",
   "id": "eb6d7643-c823-4825-98c8-25c8c8a78ff0",
   "metadata": {},
   "source": [
    "Alternatively, we could plot histograms of the data:"
   ]
  },
  {
   "cell_type": "code",
   "execution_count": 172,
   "id": "e5ab96a3-97b5-4de6-8a3e-288891f0feab",
   "metadata": {},
   "outputs": [
    {
     "data": {
      "image/png": "[encoded data removed]",
      "text/plain": [
       "<Figure size 432x288 with 1 Axes>"
      ]
     },
     "metadata": {
      "needs_background": "light"
     },
     "output_type": "display_data"
    }
   ],
   "source": [
    "sns.histplot(data=diorite_protrusions, x=\"protrusion depth (cm)\", hue=\"moraine\", binwidth=0.5)\n",
    "plt.show()"
   ]
  },
  {
   "cell_type": "markdown",
   "id": "40523ce2-eedb-4efb-987b-60975a3391d1",
   "metadata": {},
   "source": [
    "Or visualize the data using a kernel density function. kdeplots display information in a similar way than histograms, though a Gaussian kernel is used to produce a smoothed line corresponding to observations count:"
   ]
  },
  {
   "cell_type": "code",
   "execution_count": 158,
   "id": "45d03b7e-f74e-427f-b1cc-544acabc22e7",
   "metadata": {},
   "outputs": [
    {
     "data": {
      "image/png": "[encoded data removed]",
      "text/plain": [
       "<Figure size 432x288 with 1 Axes>"
      ]
     },
     "metadata": {
      "needs_background": "light"
     },
     "output_type": "display_data"
    }
   ],
   "source": [
    "sns.kdeplot(data=diorite_protrusions, x=\"protrusion depth (cm)\", hue=\"moraine\",\n",
    "            clip=(0, None))\n",
    "plt.xlim(0,20)\n",
    "plt.show()"
   ]
  },
  {
   "cell_type": "markdown",
   "id": "607aceae-7d3c-4650-bad2-92c5a26a2f81",
   "metadata": {},
   "source": [
    "## Your turn!\n",
    "\n",
    "Use the code examples above and "
   ]
  },
  {
   "cell_type": "code",
   "execution_count": 159,
   "id": "2572d427-7e2e-4bba-8094-6d867408a997",
   "metadata": {},
   "outputs": [],
   "source": [
    "sheet_id = '1fmdBNM1kJn2DvIjiD4CTMctHbg45v_i3ZcIdH3XTHfg'\n",
    "sheet_name = 'combined_clasts'\n",
    "clasts_url = f'https://docs.google.com/spreadsheets/d/{sheet_id}/gviz/tq?tqx=out:csv&sheet={sheet_name}'"
   ]
  },
  {
   "cell_type": "code",
   "execution_count": 160,
   "id": "8f88ae35-a699-4a92-b4b5-8c65f46f4552",
   "metadata": {},
   "outputs": [
    {
     "data": {
      "text/html": [
       "<div>\n",
       "<style scoped>\n",
       "    .dataframe tbody tr th:only-of-type {\n",
       "        vertical-align: middle;\n",
       "    }\n",
       "\n",
       "    .dataframe tbody tr th {\n",
       "        vertical-align: top;\n",
       "    }\n",
       "\n",
       "    .dataframe thead th {\n",
       "        text-align: right;\n",
       "    }\n",
       "</style>\n",
       "<table border=\"1\" class=\"dataframe\">\n",
       "  <thead>\n",
       "    <tr style=\"text-align: right;\">\n",
       "      <th></th>\n",
       "      <th>team name</th>\n",
       "      <th>moraine</th>\n",
       "      <th># Clast</th>\n",
       "      <th>x (cm)</th>\n",
       "      <th>y (cm)</th>\n",
       "      <th>z (cm)</th>\n",
       "      <th>litho</th>\n",
       "      <th>detail</th>\n",
       "      <th>physical weathering</th>\n",
       "      <th>chemical weathering</th>\n",
       "      <th>Notes</th>\n",
       "      <th>protrusion</th>\n",
       "      <th>protrusion depth (cm)</th>\n",
       "    </tr>\n",
       "  </thead>\n",
       "  <tbody>\n",
       "    <tr>\n",
       "      <th>0</th>\n",
       "      <td>Tioga</td>\n",
       "      <td>younger</td>\n",
       "      <td>1</td>\n",
       "      <td>62.0</td>\n",
       "      <td>56.0</td>\n",
       "      <td>31.0</td>\n",
       "      <td>metasedimentary</td>\n",
       "      <td>slate</td>\n",
       "      <td>exfoliation</td>\n",
       "      <td>oxidation</td>\n",
       "      <td>NaN</td>\n",
       "      <td>NaN</td>\n",
       "      <td>NaN</td>\n",
       "    </tr>\n",
       "    <tr>\n",
       "      <th>1</th>\n",
       "      <td>Tioga</td>\n",
       "      <td>younger</td>\n",
       "      <td>2</td>\n",
       "      <td>7.0</td>\n",
       "      <td>6.0</td>\n",
       "      <td>NaN</td>\n",
       "      <td>igneous</td>\n",
       "      <td>granodiorite</td>\n",
       "      <td>NaN</td>\n",
       "      <td>oxidation</td>\n",
       "      <td>NaN</td>\n",
       "      <td>NaN</td>\n",
       "      <td>NaN</td>\n",
       "    </tr>\n",
       "    <tr>\n",
       "      <th>2</th>\n",
       "      <td>Tioga</td>\n",
       "      <td>younger</td>\n",
       "      <td>3</td>\n",
       "      <td>15.0</td>\n",
       "      <td>9.0</td>\n",
       "      <td>6.5</td>\n",
       "      <td>metasedimentary</td>\n",
       "      <td>slate</td>\n",
       "      <td>exfoliation</td>\n",
       "      <td>oxidation</td>\n",
       "      <td>NaN</td>\n",
       "      <td>NaN</td>\n",
       "      <td>NaN</td>\n",
       "    </tr>\n",
       "    <tr>\n",
       "      <th>3</th>\n",
       "      <td>Tioga</td>\n",
       "      <td>younger</td>\n",
       "      <td>4</td>\n",
       "      <td>20.0</td>\n",
       "      <td>20.0</td>\n",
       "      <td>12.0</td>\n",
       "      <td>metasedimentary</td>\n",
       "      <td>marble</td>\n",
       "      <td>jointing</td>\n",
       "      <td>NaN</td>\n",
       "      <td>NaN</td>\n",
       "      <td>NaN</td>\n",
       "      <td>NaN</td>\n",
       "    </tr>\n",
       "    <tr>\n",
       "      <th>4</th>\n",
       "      <td>Tioga</td>\n",
       "      <td>younger</td>\n",
       "      <td>5</td>\n",
       "      <td>19.0</td>\n",
       "      <td>11.0</td>\n",
       "      <td>17.0</td>\n",
       "      <td>igneous</td>\n",
       "      <td>granodiorite</td>\n",
       "      <td>jointing</td>\n",
       "      <td>NaN</td>\n",
       "      <td>part of split/sheared boulder</td>\n",
       "      <td>NaN</td>\n",
       "      <td>NaN</td>\n",
       "    </tr>\n",
       "    <tr>\n",
       "      <th>...</th>\n",
       "      <td>...</td>\n",
       "      <td>...</td>\n",
       "      <td>...</td>\n",
       "      <td>...</td>\n",
       "      <td>...</td>\n",
       "      <td>...</td>\n",
       "      <td>...</td>\n",
       "      <td>...</td>\n",
       "      <td>...</td>\n",
       "      <td>...</td>\n",
       "      <td>...</td>\n",
       "      <td>...</td>\n",
       "      <td>...</td>\n",
       "    </tr>\n",
       "    <tr>\n",
       "      <th>295</th>\n",
       "      <td>Fault scrap</td>\n",
       "      <td>older</td>\n",
       "      <td>46</td>\n",
       "      <td>12.0</td>\n",
       "      <td>8.0</td>\n",
       "      <td>4.0</td>\n",
       "      <td>igneous</td>\n",
       "      <td>granodiorite</td>\n",
       "      <td>NaN</td>\n",
       "      <td>NaN</td>\n",
       "      <td>high, oxidation</td>\n",
       "      <td>No</td>\n",
       "      <td>NaN</td>\n",
       "    </tr>\n",
       "    <tr>\n",
       "      <th>296</th>\n",
       "      <td>Fault scrap</td>\n",
       "      <td>older</td>\n",
       "      <td>47</td>\n",
       "      <td>18.0</td>\n",
       "      <td>12.0</td>\n",
       "      <td>NaN</td>\n",
       "      <td>igneous</td>\n",
       "      <td>granodiorite</td>\n",
       "      <td>NaN</td>\n",
       "      <td>NaN</td>\n",
       "      <td>moderate</td>\n",
       "      <td>No</td>\n",
       "      <td>NaN</td>\n",
       "    </tr>\n",
       "    <tr>\n",
       "      <th>297</th>\n",
       "      <td>Fault scrap</td>\n",
       "      <td>older</td>\n",
       "      <td>48</td>\n",
       "      <td>235.0</td>\n",
       "      <td>144.0</td>\n",
       "      <td>30.0</td>\n",
       "      <td>igneous</td>\n",
       "      <td>granodiorite</td>\n",
       "      <td>NaN</td>\n",
       "      <td>NaN</td>\n",
       "      <td>moderate</td>\n",
       "      <td>Yes</td>\n",
       "      <td>1.0</td>\n",
       "    </tr>\n",
       "    <tr>\n",
       "      <th>298</th>\n",
       "      <td>Fault scrap</td>\n",
       "      <td>older</td>\n",
       "      <td>49</td>\n",
       "      <td>26.0</td>\n",
       "      <td>18.0</td>\n",
       "      <td>11.0</td>\n",
       "      <td>igneous</td>\n",
       "      <td>diorite</td>\n",
       "      <td>NaN</td>\n",
       "      <td>NaN</td>\n",
       "      <td>low, oxidation</td>\n",
       "      <td>No</td>\n",
       "      <td>NaN</td>\n",
       "    </tr>\n",
       "    <tr>\n",
       "      <th>299</th>\n",
       "      <td>Fault scrap</td>\n",
       "      <td>older</td>\n",
       "      <td>50</td>\n",
       "      <td>0.5</td>\n",
       "      <td>0.5</td>\n",
       "      <td>0.5</td>\n",
       "      <td>igneous</td>\n",
       "      <td>granodiorite</td>\n",
       "      <td>NaN</td>\n",
       "      <td>NaN</td>\n",
       "      <td>NaN</td>\n",
       "      <td>No</td>\n",
       "      <td>NaN</td>\n",
       "    </tr>\n",
       "  </tbody>\n",
       "</table>\n",
       "<p>300 rows × 13 columns</p>\n",
       "</div>"
      ],
      "text/plain": [
       "       team name  moraine  # Clast  x (cm)  y (cm)  z (cm)            litho  \\\n",
       "0          Tioga  younger        1    62.0    56.0    31.0  metasedimentary   \n",
       "1          Tioga  younger        2     7.0     6.0     NaN          igneous   \n",
       "2          Tioga  younger        3    15.0     9.0     6.5  metasedimentary   \n",
       "3          Tioga  younger        4    20.0    20.0    12.0  metasedimentary   \n",
       "4          Tioga  younger        5    19.0    11.0    17.0          igneous   \n",
       "..           ...      ...      ...     ...     ...     ...              ...   \n",
       "295  Fault scrap    older       46    12.0     8.0     4.0          igneous   \n",
       "296  Fault scrap    older       47    18.0    12.0     NaN          igneous   \n",
       "297  Fault scrap    older       48   235.0   144.0    30.0          igneous   \n",
       "298  Fault scrap    older       49    26.0    18.0    11.0          igneous   \n",
       "299  Fault scrap    older       50     0.5     0.5     0.5          igneous   \n",
       "\n",
       "           detail physical weathering chemical weathering   \\\n",
       "0           slate         exfoliation            oxidation   \n",
       "1    granodiorite                 NaN            oxidation   \n",
       "2           slate         exfoliation            oxidation   \n",
       "3          marble            jointing                  NaN   \n",
       "4    granodiorite            jointing                  NaN   \n",
       "..            ...                 ...                  ...   \n",
       "295  granodiorite                 NaN                  NaN   \n",
       "296  granodiorite                 NaN                  NaN   \n",
       "297  granodiorite                 NaN                  NaN   \n",
       "298       diorite                 NaN                  NaN   \n",
       "299  granodiorite                 NaN                  NaN   \n",
       "\n",
       "                             Notes protrusion  protrusion depth (cm)  \n",
       "0                              NaN        NaN                    NaN  \n",
       "1                              NaN        NaN                    NaN  \n",
       "2                              NaN        NaN                    NaN  \n",
       "3                              NaN        NaN                    NaN  \n",
       "4    part of split/sheared boulder        NaN                    NaN  \n",
       "..                             ...        ...                    ...  \n",
       "295                high, oxidation         No                    NaN  \n",
       "296                       moderate         No                    NaN  \n",
       "297                       moderate        Yes                    1.0  \n",
       "298                 low, oxidation         No                    NaN  \n",
       "299                            NaN         No                    NaN  \n",
       "\n",
       "[300 rows x 13 columns]"
      ]
     },
     "execution_count": 160,
     "metadata": {},
     "output_type": "execute_result"
    }
   ],
   "source": [
    "combined_clasts = pd.read_csv(clasts_url)\n",
    "for n in combined_clasts.index:\n",
    "    if combined_clasts['x (cm)'][n]<combined_clasts['y (cm)'][n]:\n",
    "        combined_clasts['x (cm)'][n] = combined_clasts['y (cm)'][n]\n",
    "        combined_clasts['y (cm)'][n] = combined_clasts['x (cm)'][n]\n",
    "combined_clasts"
   ]
  },
  {
   "cell_type": "code",
   "execution_count": null,
   "id": "3590770a-01aa-480e-95b5-284edf863668",
   "metadata": {},
   "outputs": [],
   "source": []
  }
 ],
 "metadata": {
  "kernelspec": {
   "display_name": "Python 3 (ipykernel)",
   "language": "python",
   "name": "python3"
  },
  "language_info": {
   "codemirror_mode": {
    "name": "ipython",
    "version": 3
   },
   "file_extension": ".py",
   "mimetype": "text/x-python",
   "name": "python",
   "nbconvert_exporter": "python",
   "pygments_lexer": "ipython3",
   "version": "3.8.13"
  }
 },
 "nbformat": 4,
 "nbformat_minor": 5
}
